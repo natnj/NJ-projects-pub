{
  "nbformat": 4,
  "nbformat_minor": 0,
  "metadata": {
    "colab": {
      "provenance": [],
      "collapsed_sections": [
        "svF-C1OAU6H_"
      ],
      "include_colab_link": true
    },
    "kernelspec": {
      "name": "python3",
      "display_name": "Python 3"
    },
    "language_info": {
      "name": "python"
    }
  },
  "cells": [
    {
      "cell_type": "markdown",
      "metadata": {
        "id": "view-in-github",
        "colab_type": "text"
      },
      "source": [
        "<a href=\"https://colab.research.google.com/github/natnj/NJ-projects-pub/blob/main/NJ_6_8701_PSET1.ipynb\" target=\"_parent\"><img src=\"https://colab.research.google.com/assets/colab-badge.svg\" alt=\"Open In Colab\"/></a>"
      ]
    },
    {
      "cell_type": "markdown",
      "source": [
        "# **6.8701 | 6.8700[J] | HST.507[J]**\n",
        "\n",
        "\n",
        "\n",
        "#**Fall 2023 Problem Set 1**\n",
        "\n",
        "Due: Monday September 25 at 11:59 PM EDT\n",
        "\n",
        "Create a copy of this notebook and work on your local copy.\n",
        "\n",
        "Submit .ipynb file as well as PDF to Canvas."
      ],
      "metadata": {
        "id": "fgNUW9Q9ZIVb"
      }
    },
    {
      "cell_type": "markdown",
      "source": [
        "## Imports/Installation"
      ],
      "metadata": {
        "id": "lr3ciDESWaR8"
      }
    },
    {
      "cell_type": "code",
      "source": [
        "!apt install samtools bedtools"
      ],
      "metadata": {
        "colab": {
          "base_uri": "https://localhost:8080/"
        },
        "id": "Vb59GiqCne_Z",
        "outputId": "7a157174-cb55-4bd3-a500-2b03ef969994"
      },
      "execution_count": null,
      "outputs": [
        {
          "output_type": "stream",
          "name": "stdout",
          "text": [
            "Reading package lists... Done\n",
            "Building dependency tree... Done\n",
            "Reading state information... Done\n",
            "The following additional packages will be installed:\n",
            "  libhts3 libhtscodecs2\n",
            "Suggested packages:\n",
            "  cwltool\n",
            "The following NEW packages will be installed:\n",
            "  bedtools libhts3 libhtscodecs2 samtools\n",
            "0 upgraded, 4 newly installed, 0 to remove and 16 not upgraded.\n",
            "Need to get 1,525 kB of archives.\n",
            "After this operation, 3,818 kB of additional disk space will be used.\n",
            "Get:1 http://archive.ubuntu.com/ubuntu jammy-updates/universe amd64 bedtools amd64 2.30.0+dfsg-2ubuntu0.1 [563 kB]\n",
            "Get:2 http://archive.ubuntu.com/ubuntu jammy/universe amd64 libhtscodecs2 amd64 1.1.1-3 [53.2 kB]\n",
            "Get:3 http://archive.ubuntu.com/ubuntu jammy/universe amd64 libhts3 amd64 1.13+ds-2build1 [390 kB]\n",
            "Get:4 http://archive.ubuntu.com/ubuntu jammy/universe amd64 samtools amd64 1.13-4 [520 kB]\n",
            "Fetched 1,525 kB in 2s (970 kB/s)\n",
            "Selecting previously unselected package bedtools.\n",
            "(Reading database ... 120901 files and directories currently installed.)\n",
            "Preparing to unpack .../bedtools_2.30.0+dfsg-2ubuntu0.1_amd64.deb ...\n",
            "Unpacking bedtools (2.30.0+dfsg-2ubuntu0.1) ...\n",
            "Selecting previously unselected package libhtscodecs2:amd64.\n",
            "Preparing to unpack .../libhtscodecs2_1.1.1-3_amd64.deb ...\n",
            "Unpacking libhtscodecs2:amd64 (1.1.1-3) ...\n",
            "Selecting previously unselected package libhts3:amd64.\n",
            "Preparing to unpack .../libhts3_1.13+ds-2build1_amd64.deb ...\n",
            "Unpacking libhts3:amd64 (1.13+ds-2build1) ...\n",
            "Selecting previously unselected package samtools.\n",
            "Preparing to unpack .../samtools_1.13-4_amd64.deb ...\n",
            "Unpacking samtools (1.13-4) ...\n",
            "Setting up libhtscodecs2:amd64 (1.1.1-3) ...\n",
            "Setting up libhts3:amd64 (1.13+ds-2build1) ...\n",
            "Setting up samtools (1.13-4) ...\n",
            "Setting up bedtools (2.30.0+dfsg-2ubuntu0.1) ...\n",
            "Processing triggers for man-db (2.10.2-1) ...\n",
            "Processing triggers for libc-bin (2.35-0ubuntu3.1) ...\n",
            "/sbin/ldconfig.real: /usr/local/lib/libtbbbind_2_0.so.3 is not a symbolic link\n",
            "\n",
            "/sbin/ldconfig.real: /usr/local/lib/libtbbmalloc_proxy.so.2 is not a symbolic link\n",
            "\n",
            "/sbin/ldconfig.real: /usr/local/lib/libtbbmalloc.so.2 is not a symbolic link\n",
            "\n",
            "/sbin/ldconfig.real: /usr/local/lib/libtbbbind.so.3 is not a symbolic link\n",
            "\n",
            "/sbin/ldconfig.real: /usr/local/lib/libtbbbind_2_5.so.3 is not a symbolic link\n",
            "\n",
            "/sbin/ldconfig.real: /usr/local/lib/libtbb.so.12 is not a symbolic link\n",
            "\n"
          ]
        }
      ]
    },
    {
      "cell_type": "code",
      "source": [
        "%pip install sklearn scipy pyranges biopython pyjaspar pysam pyfaidx logomaker anndata torch"
      ],
      "metadata": {
        "id": "AfeoCcTNqf3P",
        "colab": {
          "base_uri": "https://localhost:8080/"
        },
        "outputId": "89ea0952-196b-47e8-d96f-670f47821a82"
      },
      "execution_count": null,
      "outputs": [
        {
          "output_type": "stream",
          "name": "stdout",
          "text": [
            "Requirement already satisfied: sklearn in /usr/local/lib/python3.10/dist-packages (0.0.post9)\n",
            "Requirement already satisfied: scipy in /usr/local/lib/python3.10/dist-packages (1.11.2)\n",
            "Requirement already satisfied: pyranges in /usr/local/lib/python3.10/dist-packages (0.0.129)\n",
            "Requirement already satisfied: biopython in /usr/local/lib/python3.10/dist-packages (1.81)\n",
            "Requirement already satisfied: pyjaspar in /usr/local/lib/python3.10/dist-packages (2.1.1)\n",
            "Requirement already satisfied: pysam in /usr/local/lib/python3.10/dist-packages (0.21.0)\n",
            "Requirement already satisfied: pyfaidx in /usr/local/lib/python3.10/dist-packages (0.7.2.1)\n",
            "Requirement already satisfied: logomaker in /usr/local/lib/python3.10/dist-packages (0.8)\n",
            "Requirement already satisfied: anndata in /usr/local/lib/python3.10/dist-packages (0.9.2)\n",
            "Requirement already satisfied: torch in /usr/local/lib/python3.10/dist-packages (2.0.1+cu118)\n",
            "Requirement already satisfied: numpy<1.28.0,>=1.21.6 in /usr/local/lib/python3.10/dist-packages (from scipy) (1.23.5)\n",
            "Requirement already satisfied: pandas in /usr/local/lib/python3.10/dist-packages (from pyranges) (1.5.3)\n",
            "Requirement already satisfied: ncls>=0.0.63 in /usr/local/lib/python3.10/dist-packages (from pyranges) (0.0.68)\n",
            "Requirement already satisfied: tabulate in /usr/local/lib/python3.10/dist-packages (from pyranges) (0.9.0)\n",
            "Requirement already satisfied: sorted-nearest>=0.0.33 in /usr/local/lib/python3.10/dist-packages (from pyranges) (0.0.39)\n",
            "Requirement already satisfied: natsort in /usr/local/lib/python3.10/dist-packages (from pyranges) (8.4.0)\n",
            "Requirement already satisfied: wheel in /usr/local/lib/python3.10/dist-packages (from pyjaspar) (0.41.2)\n",
            "Requirement already satisfied: cython in /usr/local/lib/python3.10/dist-packages (from pysam) (3.0.2)\n",
            "Requirement already satisfied: six in /usr/local/lib/python3.10/dist-packages (from pyfaidx) (1.16.0)\n",
            "Requirement already satisfied: setuptools in /usr/local/lib/python3.10/dist-packages (from pyfaidx) (67.7.2)\n",
            "Requirement already satisfied: matplotlib in /usr/local/lib/python3.10/dist-packages (from logomaker) (3.7.1)\n",
            "Requirement already satisfied: h5py>=3 in /usr/local/lib/python3.10/dist-packages (from anndata) (3.9.0)\n",
            "Requirement already satisfied: packaging>=20 in /usr/local/lib/python3.10/dist-packages (from anndata) (23.1)\n",
            "Requirement already satisfied: filelock in /usr/local/lib/python3.10/dist-packages (from torch) (3.12.2)\n",
            "Requirement already satisfied: typing-extensions in /usr/local/lib/python3.10/dist-packages (from torch) (4.5.0)\n",
            "Requirement already satisfied: sympy in /usr/local/lib/python3.10/dist-packages (from torch) (1.12)\n",
            "Requirement already satisfied: networkx in /usr/local/lib/python3.10/dist-packages (from torch) (3.1)\n",
            "Requirement already satisfied: jinja2 in /usr/local/lib/python3.10/dist-packages (from torch) (3.1.2)\n",
            "Requirement already satisfied: triton==2.0.0 in /usr/local/lib/python3.10/dist-packages (from torch) (2.0.0)\n",
            "Requirement already satisfied: cmake in /usr/local/lib/python3.10/dist-packages (from triton==2.0.0->torch) (3.27.4.1)\n",
            "Requirement already satisfied: lit in /usr/local/lib/python3.10/dist-packages (from triton==2.0.0->torch) (16.0.6)\n",
            "Requirement already satisfied: python-dateutil>=2.8.1 in /usr/local/lib/python3.10/dist-packages (from pandas->pyranges) (2.8.2)\n",
            "Requirement already satisfied: pytz>=2020.1 in /usr/local/lib/python3.10/dist-packages (from pandas->pyranges) (2023.3.post1)\n",
            "Requirement already satisfied: MarkupSafe>=2.0 in /usr/local/lib/python3.10/dist-packages (from jinja2->torch) (2.1.3)\n",
            "Requirement already satisfied: contourpy>=1.0.1 in /usr/local/lib/python3.10/dist-packages (from matplotlib->logomaker) (1.1.0)\n",
            "Requirement already satisfied: cycler>=0.10 in /usr/local/lib/python3.10/dist-packages (from matplotlib->logomaker) (0.11.0)\n",
            "Requirement already satisfied: fonttools>=4.22.0 in /usr/local/lib/python3.10/dist-packages (from matplotlib->logomaker) (4.42.1)\n",
            "Requirement already satisfied: kiwisolver>=1.0.1 in /usr/local/lib/python3.10/dist-packages (from matplotlib->logomaker) (1.4.5)\n",
            "Requirement already satisfied: pillow>=6.2.0 in /usr/local/lib/python3.10/dist-packages (from matplotlib->logomaker) (9.4.0)\n",
            "Requirement already satisfied: pyparsing>=2.3.1 in /usr/local/lib/python3.10/dist-packages (from matplotlib->logomaker) (3.1.1)\n",
            "Requirement already satisfied: mpmath>=0.19 in /usr/local/lib/python3.10/dist-packages (from sympy->torch) (1.3.0)\n"
          ]
        }
      ]
    },
    {
      "cell_type": "code",
      "source": [
        "import os\n",
        "import numpy as np\n",
        "import pandas as pd\n",
        "import scipy.stats\n",
        "import matplotlib.pyplot as plt\n",
        "import seaborn as sns\n",
        "from pyjaspar import jaspardb\n",
        "import anndata\n",
        "import pyranges\n",
        "import pysam\n",
        "import torch"
      ],
      "metadata": {
        "id": "JC7n4zjEsCCx"
      },
      "execution_count": null,
      "outputs": []
    },
    {
      "cell_type": "markdown",
      "source": [
        "# **1.1 Gibbs sampling and clustering**\n"
      ],
      "metadata": {
        "id": "MvdwG_rtqmSL"
      }
    },
    {
      "cell_type": "markdown",
      "metadata": {
        "id": "4AjSrL5TJw-G"
      },
      "source": [
        "## 1.1.1 Gibbs sampling for motif discovery\n",
        "\n",
        "In this problem, you will implement a Gibbs sampler to discover sequence motifs."
      ]
    },
    {
      "cell_type": "markdown",
      "metadata": {
        "id": "gk-8ol2DJ8R4"
      },
      "source": [
        "Recall the Gibbs sampling algorithm for this problem: Initialize the motif position in each sequence. Until convergence: re-estimate the position weight matrix (PWM) from all the motifs except one, score every position in the excluded sequence, and sample a $k$-mer from the excluded sequence with probability proportional to the score.\n",
        "\n",
        "We have intentionally not specified many of the implementation details. Describe and justify the design decisions you made in your implementation. For example, how do you choose the sequence to exclude when recomputing the position weight matrix?"
      ]
    },
    {
      "cell_type": "code",
      "metadata": {
        "id": "NK1siknnM-tc"
      },
      "source": [
        "alphabet = [\"A\", \"C\", \"G\", \"T\"]\n",
        "\n",
        "### GibbsSampler:\n",
        "### INPUTS:\tS - list of sequences\n",
        "###\t\t    L - length of motif\n",
        "###\tOUTPUT:\tPWM - 4 x L list with frequencies of each base at each position\n",
        "###               Order of bases should be consistent with alphabet variable\n",
        "def GibbsSampler(S, L):\n",
        "    PWM = [[0 for _ in range(L)] for _ in range(len(alphabet))]\n",
        "\n",
        "    ### YOUR CODE HERE ###\n",
        "\n",
        "    return PWM\n",
        "\n",
        "### ADD FUNCTIONS HERE ###\n",
        "\n",
        "###########################\n",
        "# NO NEED TO MODIFY BELOW #\n",
        "###########################\n",
        "\n",
        "def get_motif_seq(PWM):\n",
        "    motif_seq = \"\"\n",
        "    for i in range(len(PWM[0])):\n",
        "        comp = [row[i] for row in PWM]\n",
        "        ind = max(range(len(comp)), key = comp.__getitem__)\n",
        "        motif_seq += alphabet[ind]\n",
        "    return motif_seq\n",
        "\n",
        "def print_PWM(PWM, L):\n",
        "    PWM_comp = []\n",
        "    PWM_comp.append(\"||\" + \"|\".join([str(i) for i in range(1, L + 1)]) + \"|\")\n",
        "    PWM_comp.append(\"|-\" * (L + 1) + \"|\")\n",
        "    for i in range(4):\n",
        "        PWM_comp.append(\"|\" + alphabet[i] + \"|\" + \"|\".join([str(round(val, 2)) for val in PWM[i]]) + \"|\")\n",
        "    print(\"\\n\".join(PWM_comp) + \"\\n\")\n",
        "\n",
        "def print_logo(PWM):\n",
        "    import logomaker\n",
        "    PWM = np.array(PWM).T\n",
        "    PWM = pd.DataFrame(PWM, columns = alphabet)\n",
        "    logomaker.Logo(PWM, fade_below = 0.8)\n",
        "\n",
        "def run_GibbsSampler(S, L, n):\n",
        "    motif_seqs, motif_PWM = {}, {}\n",
        "    for i in range(n):\n",
        "        PWM = GibbsSampler(S, L)\n",
        "        motif_seq = get_motif_seq(PWM)\n",
        "        motif_seqs.setdefault(motif_seq, 0)\n",
        "        motif_seqs[motif_seq] += 1\n",
        "        motif_PWM[motif_seq] = PWM\n",
        "    best_motif = max(motif_seqs.keys(), key = lambda x: motif_seqs[x])\n",
        "    print(\"Most consistent motif: \\n\" + best_motif + \"\\n\")\n",
        "    print(\"PWM (paste into text block):\")\n",
        "    print_PWM(motif_PWM[best_motif], L)\n",
        "    print(\"Sequence logo:\")\n",
        "    print_logo(motif_PWM[best_motif])"
      ],
      "execution_count": null,
      "outputs": []
    },
    {
      "cell_type": "code",
      "metadata": {
        "id": "AUNxvp7qO_sA",
        "colab": {
          "base_uri": "https://localhost:8080/"
        },
        "outputId": "4fad4dd4-8137-4416-fb2d-d9be27cb319e"
      },
      "source": [
        "!wget -c https://www.dropbox.com/sh/u3hp274o6cg98qn/AAA31BUmilIxZU6-bwUtQnRTa?dl=1 -O gibbs_motifs.zip\n",
        "!unzip -o gibbs_motifs.zip -d gibbs_motifs\n",
        "os.unlink(\"gibbs_motifs.zip\")\n",
        "gibbs_motifs = {}\n",
        "for fname in os.listdir(\"gibbs_motifs\"):\n",
        "    with open(os.path.join(\"gibbs_motifs\", fname), \"r\") as R:\n",
        "        gibbs_motifs[fname] = R.read().strip().split()"
      ],
      "execution_count": null,
      "outputs": [
        {
          "output_type": "stream",
          "name": "stdout",
          "text": [
            "--2023-09-13 00:26:17--  https://www.dropbox.com/sh/u3hp274o6cg98qn/AAA31BUmilIxZU6-bwUtQnRTa?dl=1\n",
            "Resolving www.dropbox.com (www.dropbox.com)... 162.125.3.18, 2620:100:6018:18::a27d:312\n",
            "Connecting to www.dropbox.com (www.dropbox.com)|162.125.3.18|:443... connected.\n",
            "HTTP request sent, awaiting response... 302 Found\n",
            "Location: /sh/dl/u3hp274o6cg98qn/AAA31BUmilIxZU6-bwUtQnRTa [following]\n",
            "--2023-09-13 00:26:18--  https://www.dropbox.com/sh/dl/u3hp274o6cg98qn/AAA31BUmilIxZU6-bwUtQnRTa\n",
            "Reusing existing connection to www.dropbox.com:443.\n",
            "HTTP request sent, awaiting response... 302 Found\n",
            "Location: https://uc73dfa998e391d5924ca5b81196.dl.dropboxusercontent.com/zip_download_get/BnDWmuEqpPePFzijci891h88iO5Wct6mzBOf77kKcKA4MgxZdq4g7uwFRAFUpVVxLNB2r4X91nwscFzEzbObEJ-MCYtPuBr80FIeTiMDx0U91g?dl=1# [following]\n",
            "--2023-09-13 00:26:18--  https://uc73dfa998e391d5924ca5b81196.dl.dropboxusercontent.com/zip_download_get/BnDWmuEqpPePFzijci891h88iO5Wct6mzBOf77kKcKA4MgxZdq4g7uwFRAFUpVVxLNB2r4X91nwscFzEzbObEJ-MCYtPuBr80FIeTiMDx0U91g?dl=1\n",
            "Resolving uc73dfa998e391d5924ca5b81196.dl.dropboxusercontent.com (uc73dfa998e391d5924ca5b81196.dl.dropboxusercontent.com)... 162.125.3.15, 2620:100:6018:15::a27d:30f\n",
            "Connecting to uc73dfa998e391d5924ca5b81196.dl.dropboxusercontent.com (uc73dfa998e391d5924ca5b81196.dl.dropboxusercontent.com)|162.125.3.15|:443... connected.\n",
            "HTTP request sent, awaiting response... 200 OK\n",
            "Length: 100229 (98K) [application/zip]\n",
            "Saving to: ‘gibbs_motifs.zip’\n",
            "\n",
            "gibbs_motifs.zip    100%[===================>]  97.88K   364KB/s    in 0.3s    \n",
            "\n",
            "2023-09-13 00:26:19 (364 KB/s) - ‘gibbs_motifs.zip’ saved [100229/100229]\n",
            "\n",
            "Archive:  gibbs_motifs.zip\n",
            "warning:  stripped absolute path spec from /\n",
            "mapname:  conversion of  failed\n",
            " extracting: gibbs_motifs/data1.txt  \n",
            " extracting: gibbs_motifs/data2.txt  \n",
            " extracting: gibbs_motifs/data3.txt  \n",
            " extracting: gibbs_motifs/data4.txt  \n"
          ]
        }
      ]
    },
    {
      "cell_type": "markdown",
      "metadata": {
        "id": "0uryxZblPCJd"
      },
      "source": [
        "### 1.1.1a Test cases\n",
        "We have provided four test cases. `data1` is a synthetic data set where\n",
        "the motif is identical across the sequences. `data2` is a synthetic data set\n",
        "with a degenerate motif. `data3` and `data4` are yeast transcription factor\n",
        "binding sites of ACE2 and MBP1, respectively.\n",
        "\n",
        "Run your Gibbs sampler on the test data to discover motifs of length 10. You will need to repeat this procedure several times on each data set due to the stochastic nature of Gibbs sampling.\n",
        "\n",
        "Report the most consistently found PWM for each sequence."
      ]
    },
    {
      "cell_type": "code",
      "metadata": {
        "id": "fsCNvBpJRCPL",
        "colab": {
          "base_uri": "https://localhost:8080/",
          "height": 516
        },
        "outputId": "353b0e5e-72ba-4a63-d1bf-e817c2f3dc5a"
      },
      "source": [
        "run_GibbsSampler(gibbs_motifs[\"data1.txt\"], 10, 1)"
      ],
      "execution_count": null,
      "outputs": [
        {
          "output_type": "stream",
          "name": "stdout",
          "text": [
            "Most consistent motif: \n",
            "AAAAAAAAAA\n",
            "\n",
            "PWM (paste into text block):\n",
            "||1|2|3|4|5|6|7|8|9|10|\n",
            "|-|-|-|-|-|-|-|-|-|-|-|\n",
            "|A|0|0|0|0|0|0|0|0|0|0|\n",
            "|C|0|0|0|0|0|0|0|0|0|0|\n",
            "|G|0|0|0|0|0|0|0|0|0|0|\n",
            "|T|0|0|0|0|0|0|0|0|0|0|\n",
            "\n",
            "Sequence logo:\n"
          ]
        },
        {
          "output_type": "stream",
          "name": "stderr",
          "text": [
            "/usr/local/lib/python3.10/dist-packages/logomaker/src/Logo.py:1062: UserWarning: Attempting to set identical low and high ylims makes transformation singular; automatically expanding.\n",
            "  self.ax.set_ylim([ymin, ymax])\n"
          ]
        },
        {
          "output_type": "display_data",
          "data": {
            "text/plain": [
              "<Figure size 1000x250 with 1 Axes>"
            ],
            "image/png": "[encoded data removed]"
          },
          "metadata": {}
        }
      ]
    },
    {
      "cell_type": "markdown",
      "metadata": {
        "id": "MfcNx1guPPd1"
      },
      "source": [
        "**Answer here:**\n",
        "\n",
        "`data1` PWM:\n",
        "\n",
        "||1|2|3|4|5|6|7|8|9|10|\n",
        "|-|-|-|-|-|-|-|-|-|-|-|\n",
        "|A|||||||||||\n",
        "|G|||||||||||\n",
        "|C|||||||||||\n",
        "|T|||||||||||\n",
        "\n",
        "`data2` PWM:\n",
        "\n",
        "||1|2|3|4|5|6|7|8|9|10|\n",
        "|-|-|-|-|-|-|-|-|-|-|-|\n",
        "|A|||||||||||\n",
        "|G|||||||||||\n",
        "|C|||||||||||\n",
        "|T|||||||||||\n",
        "\n",
        "`data3` PWM:\n",
        "\n",
        "||1|2|3|4|5|6|7|8|9|10|\n",
        "|-|-|-|-|-|-|-|-|-|-|-|\n",
        "|A|||||||||||\n",
        "|G|||||||||||\n",
        "|C|||||||||||\n",
        "|T|||||||||||\n",
        "\n",
        "`data4` PWM:\n",
        "\n",
        "||1|2|3|4|5|6|7|8|9|10|\n",
        "|-|-|-|-|-|-|-|-|-|-|-|\n",
        "|A|||||||||||\n",
        "|G|||||||||||\n",
        "|C|||||||||||\n",
        "|T|||||||||||"
      ]
    },
    {
      "cell_type": "markdown",
      "metadata": {
        "id": "svF-C1OAU6H_"
      },
      "source": [
        "## 1.1.2 K-means clustering\n",
        "\n",
        "In this problem, you will implement k-means clustering on the expression profiles of two genes across a set of breast cancer patients. We have collected expression data from a pair of tissue types from the same set of 700 patients. We now wish to find clusters in this data that correspond to different breast cancer subtypes."
      ]
    },
    {
      "cell_type": "markdown",
      "metadata": {
        "id": "m7rvKFsU-D-9"
      },
      "source": [
        "Your first task is to add code to the following code block to implement the k-means algorithm. To do this, you will have to complete the `assignPoints` and `recalculateCtrs` functions, and then add calls to these functions to the\n",
        "`run_kmeans` function."
      ]
    },
    {
      "cell_type": "code",
      "metadata": {
        "id": "43LmNMF3h5f5"
      },
      "source": [
        "def assignPoints(tbl, ctrs):\n",
        "    \"\"\"Assign each of the points in tbl to the cluster with center in ctrs\"\"\"\n",
        "\n",
        "    ptsAsgn = []\n",
        "\n",
        "    ### YOUR CODE HERE ###\n",
        "\n",
        "    return ptsAsgn\n",
        "\n",
        "\n",
        "def recalculateCtrs(tbl, ctrs, ptsAsgn):\n",
        "    \"\"\"Update the centroids based on the points assigned to them\"\"\"\n",
        "\n",
        "    newCtrs = []\n",
        "\n",
        "    ### YOUR CODE HERE ###\n",
        "\n",
        "    return newCtrs\n",
        "\n",
        "def run_kmeans(dataTable):\n",
        "    \"\"\"initializes centroids, stop criterion and step counting for clustering\"\"\"\n",
        "    newCtrs = [[5, 0], [5, 40], [5, 80]]\n",
        "    ptMemb = assignPoints(dataTable, newCtrs)\n",
        "    stopCrit = False\n",
        "    stepCount = 0\n",
        "\n",
        "    \"\"\"performs k-means clustering, plotting the clusters at each step\"\"\"\n",
        "    while not stopCrit:\n",
        "        stepCount += 1\n",
        "\n",
        "        plotClusters(dataTable, ptMemb, newCtrs, stepCount)\n",
        "\n",
        "        ### YOUR CODE HERE ###\n",
        "\n",
        "        \"\"\"stop criterion - when centroids' total movement after a step is below\n",
        "            the threshold, stop the algorithm\"\"\"\n",
        "        stopDist = 0;\n",
        "        for i in range(len(newCtrs)):\n",
        "            stopDist += np.linalg.norm(np.array(oldCtrs[i]) - np.array(newCtrs[i]))\n",
        "        if stopDist < 5:\n",
        "            stopCrit = True\n",
        "\n",
        "###########################\n",
        "# NO NEED TO MODIFY BELOW #\n",
        "###########################\n",
        "\n",
        "\n",
        "def plotClusters(tbl, ptMemb, cntrs, stepCnt):\n",
        "    \"\"\"Generate a scatterplot of the current k-means cluster assignments\"\"\"\n",
        "    pt_colors = [\"salmon\", \"lightgreen\", \"lightblue\"]\n",
        "    ctr_colors = [\"red\", \"green\", \"blue\"]\n",
        "    for i in range(len(cntrs)):\n",
        "        pts = [tbl[j] for j in range(len(tbl)) if ptMemb[j] == i]\n",
        "        plt.scatter([pt[0] for pt in pts], [pt[1] for pt in pts], color = pt_colors[i], s = 10)\n",
        "        plt.scatter([cntrs[i][0]], [cntrs[i][1]], color = ctr_colors[i], s = 100, facecolors = \"none\")\n",
        "    plt.title(\"Step \" + str(stepCnt))\n",
        "    plt.xlabel(\"BRCA1 Gene Expression\")\n",
        "    plt.ylabel(\"SOX2 Gene Expression\")\n",
        "    plt.show()"
      ],
      "execution_count": null,
      "outputs": []
    },
    {
      "cell_type": "markdown",
      "metadata": {
        "id": "8Q2nGVDPwDHd"
      },
      "source": [
        "You will need to download the following [files](https://www.dropbox.com/sh/670bklch7qly756/AAAVFn3ufuUPaPcVTalsLrMZa?dl=0) and upload them to colab using the following code block."
      ]
    },
    {
      "cell_type": "code",
      "metadata": {
        "id": "UzmxH81awuMq",
        "colab": {
          "base_uri": "https://localhost:8080/"
        },
        "outputId": "96e58548-98f0-4295-da84-bb240f08985d"
      },
      "source": [
        "!wget -c https://www.dropbox.com/sh/u73ktzeykydjsos/AABtGwiaaE-iMOd-FWNXJE6Da?dl=0 -O tissue_data.zip\n",
        "!unzip -o tissue_data.zip -d tissue_data\n",
        "os.unlink(\"tissue_data.zip\")\n",
        "tissue_data = {}\n",
        "for fname in os.listdir(\"tissue_data\"):\n",
        "    tissue_data[fname] = pd.read_csv(os.path.join(\"tissue_data\", fname), sep=\"\\t\", header=None).values.tolist()"
      ],
      "execution_count": null,
      "outputs": [
        {
          "output_type": "stream",
          "name": "stdout",
          "text": [
            "--2023-09-13 00:29:37--  https://www.dropbox.com/sh/u73ktzeykydjsos/AABtGwiaaE-iMOd-FWNXJE6Da?dl=0\n",
            "Resolving www.dropbox.com (www.dropbox.com)... 162.125.3.18, 2620:100:6018:18::a27d:312\n",
            "Connecting to www.dropbox.com (www.dropbox.com)|162.125.3.18|:443... connected.\n",
            "HTTP request sent, awaiting response... 302 Found\n",
            "Location: /sh/raw/u73ktzeykydjsos/AABtGwiaaE-iMOd-FWNXJE6Da [following]\n",
            "--2023-09-13 00:29:37--  https://www.dropbox.com/sh/raw/u73ktzeykydjsos/AABtGwiaaE-iMOd-FWNXJE6Da\n",
            "Reusing existing connection to www.dropbox.com:443.\n",
            "HTTP request sent, awaiting response... 302 Found\n",
            "Location: https://uc1a74d2f7e51022bfaefc212960.dl.dropboxusercontent.com/zip_download_get/BnAOmqgv9x-vBxag9NYZ1NEnXhPBZpqFPuhX2_Bzim3uwQJGCQRKTw9GCNhY1dmjwxvmxnvY8pQUWIk_YsGQ6pp4gTQsaRiLSmuGZUMx5xn7JQ# [following]\n",
            "--2023-09-13 00:29:38--  https://uc1a74d2f7e51022bfaefc212960.dl.dropboxusercontent.com/zip_download_get/BnAOmqgv9x-vBxag9NYZ1NEnXhPBZpqFPuhX2_Bzim3uwQJGCQRKTw9GCNhY1dmjwxvmxnvY8pQUWIk_YsGQ6pp4gTQsaRiLSmuGZUMx5xn7JQ\n",
            "Resolving uc1a74d2f7e51022bfaefc212960.dl.dropboxusercontent.com (uc1a74d2f7e51022bfaefc212960.dl.dropboxusercontent.com)... 162.125.3.15, 2620:100:601b:15::a27d:80f\n",
            "Connecting to uc1a74d2f7e51022bfaefc212960.dl.dropboxusercontent.com (uc1a74d2f7e51022bfaefc212960.dl.dropboxusercontent.com)|162.125.3.15|:443... connected.\n",
            "HTTP request sent, awaiting response... 200 OK\n",
            "Length: 51057 (50K) [application/zip]\n",
            "Saving to: ‘tissue_data.zip’\n",
            "\n",
            "tissue_data.zip     100%[===================>]  49.86K  --.-KB/s    in 0.04s   \n",
            "\n",
            "2023-09-13 00:29:38 (1.24 MB/s) - ‘tissue_data.zip’ saved [51057/51057]\n",
            "\n",
            "Archive:  tissue_data.zip\n",
            "warning:  stripped absolute path spec from /\n",
            "mapname:  conversion of  failed\n",
            " extracting: tissue_data/tissue1_data.txt  \n",
            " extracting: tissue_data/tissue2_data.txt  \n"
          ]
        }
      ]
    },
    {
      "cell_type": "markdown",
      "metadata": {
        "id": "zlFryJIW-hC8"
      },
      "source": [
        "### 1.1.2b Evaluation on `tissue1`\n",
        "\n",
        "Run the following code block to test your implementation on `tissue1`. If your implementation is correct, the algorithm will converge in four steps."
      ]
    },
    {
      "cell_type": "code",
      "metadata": {
        "id": "VR5r_qYQxcW0",
        "colab": {
          "base_uri": "https://localhost:8080/",
          "height": 323
        },
        "outputId": "63532ee7-57b6-4c0e-d91c-08f2735ceaf5"
      },
      "source": [
        "run_kmeans(tissue_data[\"tissue1_data.txt\"])"
      ],
      "execution_count": null,
      "outputs": [
        {
          "output_type": "error",
          "ename": "IndexError",
          "evalue": "ignored",
          "traceback": [
            "\u001b[0;31m---------------------------------------------------------------------------\u001b[0m",
            "\u001b[0;31mIndexError\u001b[0m                                Traceback (most recent call last)",
            "\u001b[0;32m<ipython-input-36-8e28f5cc7f3a>\u001b[0m in \u001b[0;36m<cell line: 1>\u001b[0;34m()\u001b[0m\n\u001b[0;32m----> 1\u001b[0;31m \u001b[0mrun_kmeans\u001b[0m\u001b[0;34m(\u001b[0m\u001b[0mtissue_data\u001b[0m\u001b[0;34m[\u001b[0m\u001b[0;34m\"tissue1_data.txt\"\u001b[0m\u001b[0;34m]\u001b[0m\u001b[0;34m)\u001b[0m\u001b[0;34m\u001b[0m\u001b[0;34m\u001b[0m\u001b[0m\n\u001b[0m",
            "\u001b[0;32m<ipython-input-21-60ca74beb4d9>\u001b[0m in \u001b[0;36mrun_kmeans\u001b[0;34m(dataTable)\u001b[0m\n\u001b[1;32m     29\u001b[0m         \u001b[0mstepCount\u001b[0m \u001b[0;34m+=\u001b[0m \u001b[0;36m1\u001b[0m\u001b[0;34m\u001b[0m\u001b[0;34m\u001b[0m\u001b[0m\n\u001b[1;32m     30\u001b[0m \u001b[0;34m\u001b[0m\u001b[0m\n\u001b[0;32m---> 31\u001b[0;31m         \u001b[0mplotClusters\u001b[0m\u001b[0;34m(\u001b[0m\u001b[0mdataTable\u001b[0m\u001b[0;34m,\u001b[0m \u001b[0mptMemb\u001b[0m\u001b[0;34m,\u001b[0m \u001b[0mnewCtrs\u001b[0m\u001b[0;34m,\u001b[0m \u001b[0mstepCount\u001b[0m\u001b[0;34m)\u001b[0m\u001b[0;34m\u001b[0m\u001b[0;34m\u001b[0m\u001b[0m\n\u001b[0m\u001b[1;32m     32\u001b[0m \u001b[0;34m\u001b[0m\u001b[0m\n\u001b[1;32m     33\u001b[0m         \u001b[0;31m### YOUR CODE HERE ###\u001b[0m\u001b[0;34m\u001b[0m\u001b[0;34m\u001b[0m\u001b[0m\n",
            "\u001b[0;32m<ipython-input-21-60ca74beb4d9>\u001b[0m in \u001b[0;36mplotClusters\u001b[0;34m(tbl, ptMemb, cntrs, stepCnt)\u001b[0m\n\u001b[1;32m     51\u001b[0m     \u001b[0mctr_colors\u001b[0m \u001b[0;34m=\u001b[0m \u001b[0;34m[\u001b[0m\u001b[0;34m\"red\"\u001b[0m\u001b[0;34m,\u001b[0m \u001b[0;34m\"green\"\u001b[0m\u001b[0;34m,\u001b[0m \u001b[0;34m\"blue\"\u001b[0m\u001b[0;34m]\u001b[0m\u001b[0;34m\u001b[0m\u001b[0;34m\u001b[0m\u001b[0m\n\u001b[1;32m     52\u001b[0m     \u001b[0;32mfor\u001b[0m \u001b[0mi\u001b[0m \u001b[0;32min\u001b[0m \u001b[0mrange\u001b[0m\u001b[0;34m(\u001b[0m\u001b[0mlen\u001b[0m\u001b[0;34m(\u001b[0m\u001b[0mcntrs\u001b[0m\u001b[0;34m)\u001b[0m\u001b[0;34m)\u001b[0m\u001b[0;34m:\u001b[0m\u001b[0;34m\u001b[0m\u001b[0;34m\u001b[0m\u001b[0m\n\u001b[0;32m---> 53\u001b[0;31m         \u001b[0mpts\u001b[0m \u001b[0;34m=\u001b[0m \u001b[0;34m[\u001b[0m\u001b[0mtbl\u001b[0m\u001b[0;34m[\u001b[0m\u001b[0mj\u001b[0m\u001b[0;34m]\u001b[0m \u001b[0;32mfor\u001b[0m \u001b[0mj\u001b[0m \u001b[0;32min\u001b[0m \u001b[0mrange\u001b[0m\u001b[0;34m(\u001b[0m\u001b[0mlen\u001b[0m\u001b[0;34m(\u001b[0m\u001b[0mtbl\u001b[0m\u001b[0;34m)\u001b[0m\u001b[0;34m)\u001b[0m \u001b[0;32mif\u001b[0m \u001b[0mptMemb\u001b[0m\u001b[0;34m[\u001b[0m\u001b[0mj\u001b[0m\u001b[0;34m]\u001b[0m \u001b[0;34m==\u001b[0m \u001b[0mi\u001b[0m\u001b[0;34m]\u001b[0m\u001b[0;34m\u001b[0m\u001b[0;34m\u001b[0m\u001b[0m\n\u001b[0m\u001b[1;32m     54\u001b[0m         \u001b[0mplt\u001b[0m\u001b[0;34m.\u001b[0m\u001b[0mscatter\u001b[0m\u001b[0;34m(\u001b[0m\u001b[0;34m[\u001b[0m\u001b[0mpt\u001b[0m\u001b[0;34m[\u001b[0m\u001b[0;36m0\u001b[0m\u001b[0;34m]\u001b[0m \u001b[0;32mfor\u001b[0m \u001b[0mpt\u001b[0m \u001b[0;32min\u001b[0m \u001b[0mpts\u001b[0m\u001b[0;34m]\u001b[0m\u001b[0;34m,\u001b[0m \u001b[0;34m[\u001b[0m\u001b[0mpt\u001b[0m\u001b[0;34m[\u001b[0m\u001b[0;36m1\u001b[0m\u001b[0;34m]\u001b[0m \u001b[0;32mfor\u001b[0m \u001b[0mpt\u001b[0m \u001b[0;32min\u001b[0m \u001b[0mpts\u001b[0m\u001b[0;34m]\u001b[0m\u001b[0;34m,\u001b[0m \u001b[0mcolor\u001b[0m \u001b[0;34m=\u001b[0m \u001b[0mpt_colors\u001b[0m\u001b[0;34m[\u001b[0m\u001b[0mi\u001b[0m\u001b[0;34m]\u001b[0m\u001b[0;34m,\u001b[0m \u001b[0ms\u001b[0m \u001b[0;34m=\u001b[0m \u001b[0;36m10\u001b[0m\u001b[0;34m)\u001b[0m\u001b[0;34m\u001b[0m\u001b[0;34m\u001b[0m\u001b[0m\n\u001b[1;32m     55\u001b[0m         \u001b[0mplt\u001b[0m\u001b[0;34m.\u001b[0m\u001b[0mscatter\u001b[0m\u001b[0;34m(\u001b[0m\u001b[0;34m[\u001b[0m\u001b[0mcntrs\u001b[0m\u001b[0;34m[\u001b[0m\u001b[0mi\u001b[0m\u001b[0;34m]\u001b[0m\u001b[0;34m[\u001b[0m\u001b[0;36m0\u001b[0m\u001b[0;34m]\u001b[0m\u001b[0;34m]\u001b[0m\u001b[0;34m,\u001b[0m \u001b[0;34m[\u001b[0m\u001b[0mcntrs\u001b[0m\u001b[0;34m[\u001b[0m\u001b[0mi\u001b[0m\u001b[0;34m]\u001b[0m\u001b[0;34m[\u001b[0m\u001b[0;36m1\u001b[0m\u001b[0;34m]\u001b[0m\u001b[0;34m]\u001b[0m\u001b[0;34m,\u001b[0m \u001b[0mcolor\u001b[0m \u001b[0;34m=\u001b[0m \u001b[0mctr_colors\u001b[0m\u001b[0;34m[\u001b[0m\u001b[0mi\u001b[0m\u001b[0;34m]\u001b[0m\u001b[0;34m,\u001b[0m \u001b[0ms\u001b[0m \u001b[0;34m=\u001b[0m \u001b[0;36m100\u001b[0m\u001b[0;34m,\u001b[0m \u001b[0mfacecolors\u001b[0m \u001b[0;34m=\u001b[0m \u001b[0;34m\"none\"\u001b[0m\u001b[0;34m)\u001b[0m\u001b[0;34m\u001b[0m\u001b[0;34m\u001b[0m\u001b[0m\n",
            "\u001b[0;32m<ipython-input-21-60ca74beb4d9>\u001b[0m in \u001b[0;36m<listcomp>\u001b[0;34m(.0)\u001b[0m\n\u001b[1;32m     51\u001b[0m     \u001b[0mctr_colors\u001b[0m \u001b[0;34m=\u001b[0m \u001b[0;34m[\u001b[0m\u001b[0;34m\"red\"\u001b[0m\u001b[0;34m,\u001b[0m \u001b[0;34m\"green\"\u001b[0m\u001b[0;34m,\u001b[0m \u001b[0;34m\"blue\"\u001b[0m\u001b[0;34m]\u001b[0m\u001b[0;34m\u001b[0m\u001b[0;34m\u001b[0m\u001b[0m\n\u001b[1;32m     52\u001b[0m     \u001b[0;32mfor\u001b[0m \u001b[0mi\u001b[0m \u001b[0;32min\u001b[0m \u001b[0mrange\u001b[0m\u001b[0;34m(\u001b[0m\u001b[0mlen\u001b[0m\u001b[0;34m(\u001b[0m\u001b[0mcntrs\u001b[0m\u001b[0;34m)\u001b[0m\u001b[0;34m)\u001b[0m\u001b[0;34m:\u001b[0m\u001b[0;34m\u001b[0m\u001b[0;34m\u001b[0m\u001b[0m\n\u001b[0;32m---> 53\u001b[0;31m         \u001b[0mpts\u001b[0m \u001b[0;34m=\u001b[0m \u001b[0;34m[\u001b[0m\u001b[0mtbl\u001b[0m\u001b[0;34m[\u001b[0m\u001b[0mj\u001b[0m\u001b[0;34m]\u001b[0m \u001b[0;32mfor\u001b[0m \u001b[0mj\u001b[0m \u001b[0;32min\u001b[0m \u001b[0mrange\u001b[0m\u001b[0;34m(\u001b[0m\u001b[0mlen\u001b[0m\u001b[0;34m(\u001b[0m\u001b[0mtbl\u001b[0m\u001b[0;34m)\u001b[0m\u001b[0;34m)\u001b[0m \u001b[0;32mif\u001b[0m \u001b[0mptMemb\u001b[0m\u001b[0;34m[\u001b[0m\u001b[0mj\u001b[0m\u001b[0;34m]\u001b[0m \u001b[0;34m==\u001b[0m \u001b[0mi\u001b[0m\u001b[0;34m]\u001b[0m\u001b[0;34m\u001b[0m\u001b[0;34m\u001b[0m\u001b[0m\n\u001b[0m\u001b[1;32m     54\u001b[0m         \u001b[0mplt\u001b[0m\u001b[0;34m.\u001b[0m\u001b[0mscatter\u001b[0m\u001b[0;34m(\u001b[0m\u001b[0;34m[\u001b[0m\u001b[0mpt\u001b[0m\u001b[0;34m[\u001b[0m\u001b[0;36m0\u001b[0m\u001b[0;34m]\u001b[0m \u001b[0;32mfor\u001b[0m \u001b[0mpt\u001b[0m \u001b[0;32min\u001b[0m \u001b[0mpts\u001b[0m\u001b[0;34m]\u001b[0m\u001b[0;34m,\u001b[0m \u001b[0;34m[\u001b[0m\u001b[0mpt\u001b[0m\u001b[0;34m[\u001b[0m\u001b[0;36m1\u001b[0m\u001b[0;34m]\u001b[0m \u001b[0;32mfor\u001b[0m \u001b[0mpt\u001b[0m \u001b[0;32min\u001b[0m \u001b[0mpts\u001b[0m\u001b[0;34m]\u001b[0m\u001b[0;34m,\u001b[0m \u001b[0mcolor\u001b[0m \u001b[0;34m=\u001b[0m \u001b[0mpt_colors\u001b[0m\u001b[0;34m[\u001b[0m\u001b[0mi\u001b[0m\u001b[0;34m]\u001b[0m\u001b[0;34m,\u001b[0m \u001b[0ms\u001b[0m \u001b[0;34m=\u001b[0m \u001b[0;36m10\u001b[0m\u001b[0;34m)\u001b[0m\u001b[0;34m\u001b[0m\u001b[0;34m\u001b[0m\u001b[0m\n\u001b[1;32m     55\u001b[0m         \u001b[0mplt\u001b[0m\u001b[0;34m.\u001b[0m\u001b[0mscatter\u001b[0m\u001b[0;34m(\u001b[0m\u001b[0;34m[\u001b[0m\u001b[0mcntrs\u001b[0m\u001b[0;34m[\u001b[0m\u001b[0mi\u001b[0m\u001b[0;34m]\u001b[0m\u001b[0;34m[\u001b[0m\u001b[0;36m0\u001b[0m\u001b[0;34m]\u001b[0m\u001b[0;34m]\u001b[0m\u001b[0;34m,\u001b[0m \u001b[0;34m[\u001b[0m\u001b[0mcntrs\u001b[0m\u001b[0;34m[\u001b[0m\u001b[0mi\u001b[0m\u001b[0;34m]\u001b[0m\u001b[0;34m[\u001b[0m\u001b[0;36m1\u001b[0m\u001b[0;34m]\u001b[0m\u001b[0;34m]\u001b[0m\u001b[0;34m,\u001b[0m \u001b[0mcolor\u001b[0m \u001b[0;34m=\u001b[0m \u001b[0mctr_colors\u001b[0m\u001b[0;34m[\u001b[0m\u001b[0mi\u001b[0m\u001b[0;34m]\u001b[0m\u001b[0;34m,\u001b[0m \u001b[0ms\u001b[0m \u001b[0;34m=\u001b[0m \u001b[0;36m100\u001b[0m\u001b[0;34m,\u001b[0m \u001b[0mfacecolors\u001b[0m \u001b[0;34m=\u001b[0m \u001b[0;34m\"none\"\u001b[0m\u001b[0;34m)\u001b[0m\u001b[0;34m\u001b[0m\u001b[0;34m\u001b[0m\u001b[0m\n",
            "\u001b[0;31mIndexError\u001b[0m: list index out of range"
          ]
        }
      ]
    },
    {
      "cell_type": "markdown",
      "metadata": {
        "id": "vAa1-Yy7CBIr"
      },
      "source": [
        "### 1.1.2c Evaluation on `tissue2`\n",
        "Now run your code on `tissue2` (your algorithm should converge in six steps this time). What went wrong? What strategy would you employ to find the settings of the algorithm so that it identifies the most obvious clusters, assuming you couldn't see the clusters ahead of time?"
      ]
    },
    {
      "cell_type": "code",
      "metadata": {
        "id": "36XwLDMGCN31",
        "colab": {
          "base_uri": "https://localhost:8080/",
          "height": 323
        },
        "outputId": "f9f4851c-917e-4547-8621-341e219f2b25"
      },
      "source": [
        "run_kmeans(tissue_data[\"tissue2_data.txt\"])"
      ],
      "execution_count": null,
      "outputs": [
        {
          "output_type": "error",
          "ename": "IndexError",
          "evalue": "ignored",
          "traceback": [
            "\u001b[0;31m---------------------------------------------------------------------------\u001b[0m",
            "\u001b[0;31mIndexError\u001b[0m                                Traceback (most recent call last)",
            "\u001b[0;32m<ipython-input-37-e1af90ac2cb6>\u001b[0m in \u001b[0;36m<cell line: 1>\u001b[0;34m()\u001b[0m\n\u001b[0;32m----> 1\u001b[0;31m \u001b[0mrun_kmeans\u001b[0m\u001b[0;34m(\u001b[0m\u001b[0mtissue_data\u001b[0m\u001b[0;34m[\u001b[0m\u001b[0;34m\"tissue2_data.txt\"\u001b[0m\u001b[0;34m]\u001b[0m\u001b[0;34m)\u001b[0m\u001b[0;34m\u001b[0m\u001b[0;34m\u001b[0m\u001b[0m\n\u001b[0m",
            "\u001b[0;32m<ipython-input-21-60ca74beb4d9>\u001b[0m in \u001b[0;36mrun_kmeans\u001b[0;34m(dataTable)\u001b[0m\n\u001b[1;32m     29\u001b[0m         \u001b[0mstepCount\u001b[0m \u001b[0;34m+=\u001b[0m \u001b[0;36m1\u001b[0m\u001b[0;34m\u001b[0m\u001b[0;34m\u001b[0m\u001b[0m\n\u001b[1;32m     30\u001b[0m \u001b[0;34m\u001b[0m\u001b[0m\n\u001b[0;32m---> 31\u001b[0;31m         \u001b[0mplotClusters\u001b[0m\u001b[0;34m(\u001b[0m\u001b[0mdataTable\u001b[0m\u001b[0;34m,\u001b[0m \u001b[0mptMemb\u001b[0m\u001b[0;34m,\u001b[0m \u001b[0mnewCtrs\u001b[0m\u001b[0;34m,\u001b[0m \u001b[0mstepCount\u001b[0m\u001b[0;34m)\u001b[0m\u001b[0;34m\u001b[0m\u001b[0;34m\u001b[0m\u001b[0m\n\u001b[0m\u001b[1;32m     32\u001b[0m \u001b[0;34m\u001b[0m\u001b[0m\n\u001b[1;32m     33\u001b[0m         \u001b[0;31m### YOUR CODE HERE ###\u001b[0m\u001b[0;34m\u001b[0m\u001b[0;34m\u001b[0m\u001b[0m\n",
            "\u001b[0;32m<ipython-input-21-60ca74beb4d9>\u001b[0m in \u001b[0;36mplotClusters\u001b[0;34m(tbl, ptMemb, cntrs, stepCnt)\u001b[0m\n\u001b[1;32m     51\u001b[0m     \u001b[0mctr_colors\u001b[0m \u001b[0;34m=\u001b[0m \u001b[0;34m[\u001b[0m\u001b[0;34m\"red\"\u001b[0m\u001b[0;34m,\u001b[0m \u001b[0;34m\"green\"\u001b[0m\u001b[0;34m,\u001b[0m \u001b[0;34m\"blue\"\u001b[0m\u001b[0;34m]\u001b[0m\u001b[0;34m\u001b[0m\u001b[0;34m\u001b[0m\u001b[0m\n\u001b[1;32m     52\u001b[0m     \u001b[0;32mfor\u001b[0m \u001b[0mi\u001b[0m \u001b[0;32min\u001b[0m \u001b[0mrange\u001b[0m\u001b[0;34m(\u001b[0m\u001b[0mlen\u001b[0m\u001b[0;34m(\u001b[0m\u001b[0mcntrs\u001b[0m\u001b[0;34m)\u001b[0m\u001b[0;34m)\u001b[0m\u001b[0;34m:\u001b[0m\u001b[0;34m\u001b[0m\u001b[0;34m\u001b[0m\u001b[0m\n\u001b[0;32m---> 53\u001b[0;31m         \u001b[0mpts\u001b[0m \u001b[0;34m=\u001b[0m \u001b[0;34m[\u001b[0m\u001b[0mtbl\u001b[0m\u001b[0;34m[\u001b[0m\u001b[0mj\u001b[0m\u001b[0;34m]\u001b[0m \u001b[0;32mfor\u001b[0m \u001b[0mj\u001b[0m \u001b[0;32min\u001b[0m \u001b[0mrange\u001b[0m\u001b[0;34m(\u001b[0m\u001b[0mlen\u001b[0m\u001b[0;34m(\u001b[0m\u001b[0mtbl\u001b[0m\u001b[0;34m)\u001b[0m\u001b[0;34m)\u001b[0m \u001b[0;32mif\u001b[0m \u001b[0mptMemb\u001b[0m\u001b[0;34m[\u001b[0m\u001b[0mj\u001b[0m\u001b[0;34m]\u001b[0m \u001b[0;34m==\u001b[0m \u001b[0mi\u001b[0m\u001b[0;34m]\u001b[0m\u001b[0;34m\u001b[0m\u001b[0;34m\u001b[0m\u001b[0m\n\u001b[0m\u001b[1;32m     54\u001b[0m         \u001b[0mplt\u001b[0m\u001b[0;34m.\u001b[0m\u001b[0mscatter\u001b[0m\u001b[0;34m(\u001b[0m\u001b[0;34m[\u001b[0m\u001b[0mpt\u001b[0m\u001b[0;34m[\u001b[0m\u001b[0;36m0\u001b[0m\u001b[0;34m]\u001b[0m \u001b[0;32mfor\u001b[0m \u001b[0mpt\u001b[0m \u001b[0;32min\u001b[0m \u001b[0mpts\u001b[0m\u001b[0;34m]\u001b[0m\u001b[0;34m,\u001b[0m \u001b[0;34m[\u001b[0m\u001b[0mpt\u001b[0m\u001b[0;34m[\u001b[0m\u001b[0;36m1\u001b[0m\u001b[0;34m]\u001b[0m \u001b[0;32mfor\u001b[0m \u001b[0mpt\u001b[0m \u001b[0;32min\u001b[0m \u001b[0mpts\u001b[0m\u001b[0;34m]\u001b[0m\u001b[0;34m,\u001b[0m \u001b[0mcolor\u001b[0m \u001b[0;34m=\u001b[0m \u001b[0mpt_colors\u001b[0m\u001b[0;34m[\u001b[0m\u001b[0mi\u001b[0m\u001b[0;34m]\u001b[0m\u001b[0;34m,\u001b[0m \u001b[0ms\u001b[0m \u001b[0;34m=\u001b[0m \u001b[0;36m10\u001b[0m\u001b[0;34m)\u001b[0m\u001b[0;34m\u001b[0m\u001b[0;34m\u001b[0m\u001b[0m\n\u001b[1;32m     55\u001b[0m         \u001b[0mplt\u001b[0m\u001b[0;34m.\u001b[0m\u001b[0mscatter\u001b[0m\u001b[0;34m(\u001b[0m\u001b[0;34m[\u001b[0m\u001b[0mcntrs\u001b[0m\u001b[0;34m[\u001b[0m\u001b[0mi\u001b[0m\u001b[0;34m]\u001b[0m\u001b[0;34m[\u001b[0m\u001b[0;36m0\u001b[0m\u001b[0;34m]\u001b[0m\u001b[0;34m]\u001b[0m\u001b[0;34m,\u001b[0m \u001b[0;34m[\u001b[0m\u001b[0mcntrs\u001b[0m\u001b[0;34m[\u001b[0m\u001b[0mi\u001b[0m\u001b[0;34m]\u001b[0m\u001b[0;34m[\u001b[0m\u001b[0;36m1\u001b[0m\u001b[0;34m]\u001b[0m\u001b[0;34m]\u001b[0m\u001b[0;34m,\u001b[0m \u001b[0mcolor\u001b[0m \u001b[0;34m=\u001b[0m \u001b[0mctr_colors\u001b[0m\u001b[0;34m[\u001b[0m\u001b[0mi\u001b[0m\u001b[0;34m]\u001b[0m\u001b[0;34m,\u001b[0m \u001b[0ms\u001b[0m \u001b[0;34m=\u001b[0m \u001b[0;36m100\u001b[0m\u001b[0;34m,\u001b[0m \u001b[0mfacecolors\u001b[0m \u001b[0;34m=\u001b[0m \u001b[0;34m\"none\"\u001b[0m\u001b[0;34m)\u001b[0m\u001b[0;34m\u001b[0m\u001b[0;34m\u001b[0m\u001b[0m\n",
            "\u001b[0;32m<ipython-input-21-60ca74beb4d9>\u001b[0m in \u001b[0;36m<listcomp>\u001b[0;34m(.0)\u001b[0m\n\u001b[1;32m     51\u001b[0m     \u001b[0mctr_colors\u001b[0m \u001b[0;34m=\u001b[0m \u001b[0;34m[\u001b[0m\u001b[0;34m\"red\"\u001b[0m\u001b[0;34m,\u001b[0m \u001b[0;34m\"green\"\u001b[0m\u001b[0;34m,\u001b[0m \u001b[0;34m\"blue\"\u001b[0m\u001b[0;34m]\u001b[0m\u001b[0;34m\u001b[0m\u001b[0;34m\u001b[0m\u001b[0m\n\u001b[1;32m     52\u001b[0m     \u001b[0;32mfor\u001b[0m \u001b[0mi\u001b[0m \u001b[0;32min\u001b[0m \u001b[0mrange\u001b[0m\u001b[0;34m(\u001b[0m\u001b[0mlen\u001b[0m\u001b[0;34m(\u001b[0m\u001b[0mcntrs\u001b[0m\u001b[0;34m)\u001b[0m\u001b[0;34m)\u001b[0m\u001b[0;34m:\u001b[0m\u001b[0;34m\u001b[0m\u001b[0;34m\u001b[0m\u001b[0m\n\u001b[0;32m---> 53\u001b[0;31m         \u001b[0mpts\u001b[0m \u001b[0;34m=\u001b[0m \u001b[0;34m[\u001b[0m\u001b[0mtbl\u001b[0m\u001b[0;34m[\u001b[0m\u001b[0mj\u001b[0m\u001b[0;34m]\u001b[0m \u001b[0;32mfor\u001b[0m \u001b[0mj\u001b[0m \u001b[0;32min\u001b[0m \u001b[0mrange\u001b[0m\u001b[0;34m(\u001b[0m\u001b[0mlen\u001b[0m\u001b[0;34m(\u001b[0m\u001b[0mtbl\u001b[0m\u001b[0;34m)\u001b[0m\u001b[0;34m)\u001b[0m \u001b[0;32mif\u001b[0m \u001b[0mptMemb\u001b[0m\u001b[0;34m[\u001b[0m\u001b[0mj\u001b[0m\u001b[0;34m]\u001b[0m \u001b[0;34m==\u001b[0m \u001b[0mi\u001b[0m\u001b[0;34m]\u001b[0m\u001b[0;34m\u001b[0m\u001b[0;34m\u001b[0m\u001b[0m\n\u001b[0m\u001b[1;32m     54\u001b[0m         \u001b[0mplt\u001b[0m\u001b[0;34m.\u001b[0m\u001b[0mscatter\u001b[0m\u001b[0;34m(\u001b[0m\u001b[0;34m[\u001b[0m\u001b[0mpt\u001b[0m\u001b[0;34m[\u001b[0m\u001b[0;36m0\u001b[0m\u001b[0;34m]\u001b[0m \u001b[0;32mfor\u001b[0m \u001b[0mpt\u001b[0m \u001b[0;32min\u001b[0m \u001b[0mpts\u001b[0m\u001b[0;34m]\u001b[0m\u001b[0;34m,\u001b[0m \u001b[0;34m[\u001b[0m\u001b[0mpt\u001b[0m\u001b[0;34m[\u001b[0m\u001b[0;36m1\u001b[0m\u001b[0;34m]\u001b[0m \u001b[0;32mfor\u001b[0m \u001b[0mpt\u001b[0m \u001b[0;32min\u001b[0m \u001b[0mpts\u001b[0m\u001b[0;34m]\u001b[0m\u001b[0;34m,\u001b[0m \u001b[0mcolor\u001b[0m \u001b[0;34m=\u001b[0m \u001b[0mpt_colors\u001b[0m\u001b[0;34m[\u001b[0m\u001b[0mi\u001b[0m\u001b[0;34m]\u001b[0m\u001b[0;34m,\u001b[0m \u001b[0ms\u001b[0m \u001b[0;34m=\u001b[0m \u001b[0;36m10\u001b[0m\u001b[0;34m)\u001b[0m\u001b[0;34m\u001b[0m\u001b[0;34m\u001b[0m\u001b[0m\n\u001b[1;32m     55\u001b[0m         \u001b[0mplt\u001b[0m\u001b[0;34m.\u001b[0m\u001b[0mscatter\u001b[0m\u001b[0;34m(\u001b[0m\u001b[0;34m[\u001b[0m\u001b[0mcntrs\u001b[0m\u001b[0;34m[\u001b[0m\u001b[0mi\u001b[0m\u001b[0;34m]\u001b[0m\u001b[0;34m[\u001b[0m\u001b[0;36m0\u001b[0m\u001b[0;34m]\u001b[0m\u001b[0;34m]\u001b[0m\u001b[0;34m,\u001b[0m \u001b[0;34m[\u001b[0m\u001b[0mcntrs\u001b[0m\u001b[0;34m[\u001b[0m\u001b[0mi\u001b[0m\u001b[0;34m]\u001b[0m\u001b[0;34m[\u001b[0m\u001b[0;36m1\u001b[0m\u001b[0;34m]\u001b[0m\u001b[0;34m]\u001b[0m\u001b[0;34m,\u001b[0m \u001b[0mcolor\u001b[0m \u001b[0;34m=\u001b[0m \u001b[0mctr_colors\u001b[0m\u001b[0;34m[\u001b[0m\u001b[0mi\u001b[0m\u001b[0;34m]\u001b[0m\u001b[0;34m,\u001b[0m \u001b[0ms\u001b[0m \u001b[0;34m=\u001b[0m \u001b[0;36m100\u001b[0m\u001b[0;34m,\u001b[0m \u001b[0mfacecolors\u001b[0m \u001b[0;34m=\u001b[0m \u001b[0;34m\"none\"\u001b[0m\u001b[0;34m)\u001b[0m\u001b[0;34m\u001b[0m\u001b[0;34m\u001b[0m\u001b[0m\n",
            "\u001b[0;31mIndexError\u001b[0m: list index out of range"
          ]
        }
      ]
    },
    {
      "cell_type": "markdown",
      "metadata": {
        "id": "1LoKRct9CYUN"
      },
      "source": [
        "### 1.1.2d  Different approaches\n",
        "Experiment with the code in `run_kmeans` to try different approaches. Once you are satisfied with your solution, describe how your solution addressed the original problem using some of the output plots for reference."
      ]
    },
    {
      "cell_type": "code",
      "metadata": {
        "id": "_CgEv-JwCpzb"
      },
      "source": [
        "def run_kmeans(dataTable):\n",
        "    \"\"\"initializes centroids, stop criterion and step counting for clustering\"\"\"\n",
        "    newCtrs = [[5, 0], [5, 40], [5, 80]]\n",
        "    ptMemb = assignPoints(dataTable, newCtrs)\n",
        "    stopCrit = False\n",
        "    stepCount = 0\n",
        "\n",
        "    \"\"\"performs k-means clustering, plotting the clusters at each step\"\"\"\n",
        "    while not stopCrit:\n",
        "        stepCount += 1\n",
        "\n",
        "        plotClusters(dataTable, ptMemb, newCtrs, stepCount)\n",
        "\n",
        "        ### YOUR CODE HERE ###\n",
        "\n",
        "        \"\"\"stop criterion - when centroids' total movement after a step is below\n",
        "            the threshold, stop the algorithm\"\"\"\n",
        "        stopDist = 0;\n",
        "        for i in range(len(newCtrs)):\n",
        "            stopDist += np.linalg.norm(np.array(oldCtrs[i]) - np.array(newCtrs[i]))\n",
        "        if stopDist < 5:\n",
        "            stopCrit = True"
      ],
      "execution_count": null,
      "outputs": []
    },
    {
      "cell_type": "code",
      "metadata": {
        "id": "rU2eY7sqCuS1",
        "colab": {
          "base_uri": "https://localhost:8080/",
          "height": 323
        },
        "outputId": "35006396-9d70-4c4c-b6de-329faf3f2fcf"
      },
      "source": [
        "run_kmeans(tissue_data[\"tissue2_data.txt\"])"
      ],
      "execution_count": null,
      "outputs": [
        {
          "output_type": "error",
          "ename": "IndexError",
          "evalue": "ignored",
          "traceback": [
            "\u001b[0;31m---------------------------------------------------------------------------\u001b[0m",
            "\u001b[0;31mIndexError\u001b[0m                                Traceback (most recent call last)",
            "\u001b[0;32m<ipython-input-38-e1af90ac2cb6>\u001b[0m in \u001b[0;36m<cell line: 1>\u001b[0;34m()\u001b[0m\n\u001b[0;32m----> 1\u001b[0;31m \u001b[0mrun_kmeans\u001b[0m\u001b[0;34m(\u001b[0m\u001b[0mtissue_data\u001b[0m\u001b[0;34m[\u001b[0m\u001b[0;34m\"tissue2_data.txt\"\u001b[0m\u001b[0;34m]\u001b[0m\u001b[0;34m)\u001b[0m\u001b[0;34m\u001b[0m\u001b[0;34m\u001b[0m\u001b[0m\n\u001b[0m",
            "\u001b[0;32m<ipython-input-21-60ca74beb4d9>\u001b[0m in \u001b[0;36mrun_kmeans\u001b[0;34m(dataTable)\u001b[0m\n\u001b[1;32m     29\u001b[0m         \u001b[0mstepCount\u001b[0m \u001b[0;34m+=\u001b[0m \u001b[0;36m1\u001b[0m\u001b[0;34m\u001b[0m\u001b[0;34m\u001b[0m\u001b[0m\n\u001b[1;32m     30\u001b[0m \u001b[0;34m\u001b[0m\u001b[0m\n\u001b[0;32m---> 31\u001b[0;31m         \u001b[0mplotClusters\u001b[0m\u001b[0;34m(\u001b[0m\u001b[0mdataTable\u001b[0m\u001b[0;34m,\u001b[0m \u001b[0mptMemb\u001b[0m\u001b[0;34m,\u001b[0m \u001b[0mnewCtrs\u001b[0m\u001b[0;34m,\u001b[0m \u001b[0mstepCount\u001b[0m\u001b[0;34m)\u001b[0m\u001b[0;34m\u001b[0m\u001b[0;34m\u001b[0m\u001b[0m\n\u001b[0m\u001b[1;32m     32\u001b[0m \u001b[0;34m\u001b[0m\u001b[0m\n\u001b[1;32m     33\u001b[0m         \u001b[0;31m### YOUR CODE HERE ###\u001b[0m\u001b[0;34m\u001b[0m\u001b[0;34m\u001b[0m\u001b[0m\n",
            "\u001b[0;32m<ipython-input-21-60ca74beb4d9>\u001b[0m in \u001b[0;36mplotClusters\u001b[0;34m(tbl, ptMemb, cntrs, stepCnt)\u001b[0m\n\u001b[1;32m     51\u001b[0m     \u001b[0mctr_colors\u001b[0m \u001b[0;34m=\u001b[0m \u001b[0;34m[\u001b[0m\u001b[0;34m\"red\"\u001b[0m\u001b[0;34m,\u001b[0m \u001b[0;34m\"green\"\u001b[0m\u001b[0;34m,\u001b[0m \u001b[0;34m\"blue\"\u001b[0m\u001b[0;34m]\u001b[0m\u001b[0;34m\u001b[0m\u001b[0;34m\u001b[0m\u001b[0m\n\u001b[1;32m     52\u001b[0m     \u001b[0;32mfor\u001b[0m \u001b[0mi\u001b[0m \u001b[0;32min\u001b[0m \u001b[0mrange\u001b[0m\u001b[0;34m(\u001b[0m\u001b[0mlen\u001b[0m\u001b[0;34m(\u001b[0m\u001b[0mcntrs\u001b[0m\u001b[0;34m)\u001b[0m\u001b[0;34m)\u001b[0m\u001b[0;34m:\u001b[0m\u001b[0;34m\u001b[0m\u001b[0;34m\u001b[0m\u001b[0m\n\u001b[0;32m---> 53\u001b[0;31m         \u001b[0mpts\u001b[0m \u001b[0;34m=\u001b[0m \u001b[0;34m[\u001b[0m\u001b[0mtbl\u001b[0m\u001b[0;34m[\u001b[0m\u001b[0mj\u001b[0m\u001b[0;34m]\u001b[0m \u001b[0;32mfor\u001b[0m \u001b[0mj\u001b[0m \u001b[0;32min\u001b[0m \u001b[0mrange\u001b[0m\u001b[0;34m(\u001b[0m\u001b[0mlen\u001b[0m\u001b[0;34m(\u001b[0m\u001b[0mtbl\u001b[0m\u001b[0;34m)\u001b[0m\u001b[0;34m)\u001b[0m \u001b[0;32mif\u001b[0m \u001b[0mptMemb\u001b[0m\u001b[0;34m[\u001b[0m\u001b[0mj\u001b[0m\u001b[0;34m]\u001b[0m \u001b[0;34m==\u001b[0m \u001b[0mi\u001b[0m\u001b[0;34m]\u001b[0m\u001b[0;34m\u001b[0m\u001b[0;34m\u001b[0m\u001b[0m\n\u001b[0m\u001b[1;32m     54\u001b[0m         \u001b[0mplt\u001b[0m\u001b[0;34m.\u001b[0m\u001b[0mscatter\u001b[0m\u001b[0;34m(\u001b[0m\u001b[0;34m[\u001b[0m\u001b[0mpt\u001b[0m\u001b[0;34m[\u001b[0m\u001b[0;36m0\u001b[0m\u001b[0;34m]\u001b[0m \u001b[0;32mfor\u001b[0m \u001b[0mpt\u001b[0m \u001b[0;32min\u001b[0m \u001b[0mpts\u001b[0m\u001b[0;34m]\u001b[0m\u001b[0;34m,\u001b[0m \u001b[0;34m[\u001b[0m\u001b[0mpt\u001b[0m\u001b[0;34m[\u001b[0m\u001b[0;36m1\u001b[0m\u001b[0;34m]\u001b[0m \u001b[0;32mfor\u001b[0m \u001b[0mpt\u001b[0m \u001b[0;32min\u001b[0m \u001b[0mpts\u001b[0m\u001b[0;34m]\u001b[0m\u001b[0;34m,\u001b[0m \u001b[0mcolor\u001b[0m \u001b[0;34m=\u001b[0m \u001b[0mpt_colors\u001b[0m\u001b[0;34m[\u001b[0m\u001b[0mi\u001b[0m\u001b[0;34m]\u001b[0m\u001b[0;34m,\u001b[0m \u001b[0ms\u001b[0m \u001b[0;34m=\u001b[0m \u001b[0;36m10\u001b[0m\u001b[0;34m)\u001b[0m\u001b[0;34m\u001b[0m\u001b[0;34m\u001b[0m\u001b[0m\n\u001b[1;32m     55\u001b[0m         \u001b[0mplt\u001b[0m\u001b[0;34m.\u001b[0m\u001b[0mscatter\u001b[0m\u001b[0;34m(\u001b[0m\u001b[0;34m[\u001b[0m\u001b[0mcntrs\u001b[0m\u001b[0;34m[\u001b[0m\u001b[0mi\u001b[0m\u001b[0;34m]\u001b[0m\u001b[0;34m[\u001b[0m\u001b[0;36m0\u001b[0m\u001b[0;34m]\u001b[0m\u001b[0;34m]\u001b[0m\u001b[0;34m,\u001b[0m \u001b[0;34m[\u001b[0m\u001b[0mcntrs\u001b[0m\u001b[0;34m[\u001b[0m\u001b[0mi\u001b[0m\u001b[0;34m]\u001b[0m\u001b[0;34m[\u001b[0m\u001b[0;36m1\u001b[0m\u001b[0;34m]\u001b[0m\u001b[0;34m]\u001b[0m\u001b[0;34m,\u001b[0m \u001b[0mcolor\u001b[0m \u001b[0;34m=\u001b[0m \u001b[0mctr_colors\u001b[0m\u001b[0;34m[\u001b[0m\u001b[0mi\u001b[0m\u001b[0;34m]\u001b[0m\u001b[0;34m,\u001b[0m \u001b[0ms\u001b[0m \u001b[0;34m=\u001b[0m \u001b[0;36m100\u001b[0m\u001b[0;34m,\u001b[0m \u001b[0mfacecolors\u001b[0m \u001b[0;34m=\u001b[0m \u001b[0;34m\"none\"\u001b[0m\u001b[0;34m)\u001b[0m\u001b[0;34m\u001b[0m\u001b[0;34m\u001b[0m\u001b[0m\n",
            "\u001b[0;32m<ipython-input-21-60ca74beb4d9>\u001b[0m in \u001b[0;36m<listcomp>\u001b[0;34m(.0)\u001b[0m\n\u001b[1;32m     51\u001b[0m     \u001b[0mctr_colors\u001b[0m \u001b[0;34m=\u001b[0m \u001b[0;34m[\u001b[0m\u001b[0;34m\"red\"\u001b[0m\u001b[0;34m,\u001b[0m \u001b[0;34m\"green\"\u001b[0m\u001b[0;34m,\u001b[0m \u001b[0;34m\"blue\"\u001b[0m\u001b[0;34m]\u001b[0m\u001b[0;34m\u001b[0m\u001b[0;34m\u001b[0m\u001b[0m\n\u001b[1;32m     52\u001b[0m     \u001b[0;32mfor\u001b[0m \u001b[0mi\u001b[0m \u001b[0;32min\u001b[0m \u001b[0mrange\u001b[0m\u001b[0;34m(\u001b[0m\u001b[0mlen\u001b[0m\u001b[0;34m(\u001b[0m\u001b[0mcntrs\u001b[0m\u001b[0;34m)\u001b[0m\u001b[0;34m)\u001b[0m\u001b[0;34m:\u001b[0m\u001b[0;34m\u001b[0m\u001b[0;34m\u001b[0m\u001b[0m\n\u001b[0;32m---> 53\u001b[0;31m         \u001b[0mpts\u001b[0m \u001b[0;34m=\u001b[0m \u001b[0;34m[\u001b[0m\u001b[0mtbl\u001b[0m\u001b[0;34m[\u001b[0m\u001b[0mj\u001b[0m\u001b[0;34m]\u001b[0m \u001b[0;32mfor\u001b[0m \u001b[0mj\u001b[0m \u001b[0;32min\u001b[0m \u001b[0mrange\u001b[0m\u001b[0;34m(\u001b[0m\u001b[0mlen\u001b[0m\u001b[0;34m(\u001b[0m\u001b[0mtbl\u001b[0m\u001b[0;34m)\u001b[0m\u001b[0;34m)\u001b[0m \u001b[0;32mif\u001b[0m \u001b[0mptMemb\u001b[0m\u001b[0;34m[\u001b[0m\u001b[0mj\u001b[0m\u001b[0;34m]\u001b[0m \u001b[0;34m==\u001b[0m \u001b[0mi\u001b[0m\u001b[0;34m]\u001b[0m\u001b[0;34m\u001b[0m\u001b[0;34m\u001b[0m\u001b[0m\n\u001b[0m\u001b[1;32m     54\u001b[0m         \u001b[0mplt\u001b[0m\u001b[0;34m.\u001b[0m\u001b[0mscatter\u001b[0m\u001b[0;34m(\u001b[0m\u001b[0;34m[\u001b[0m\u001b[0mpt\u001b[0m\u001b[0;34m[\u001b[0m\u001b[0;36m0\u001b[0m\u001b[0;34m]\u001b[0m \u001b[0;32mfor\u001b[0m \u001b[0mpt\u001b[0m \u001b[0;32min\u001b[0m \u001b[0mpts\u001b[0m\u001b[0;34m]\u001b[0m\u001b[0;34m,\u001b[0m \u001b[0;34m[\u001b[0m\u001b[0mpt\u001b[0m\u001b[0;34m[\u001b[0m\u001b[0;36m1\u001b[0m\u001b[0;34m]\u001b[0m \u001b[0;32mfor\u001b[0m \u001b[0mpt\u001b[0m \u001b[0;32min\u001b[0m \u001b[0mpts\u001b[0m\u001b[0;34m]\u001b[0m\u001b[0;34m,\u001b[0m \u001b[0mcolor\u001b[0m \u001b[0;34m=\u001b[0m \u001b[0mpt_colors\u001b[0m\u001b[0;34m[\u001b[0m\u001b[0mi\u001b[0m\u001b[0;34m]\u001b[0m\u001b[0;34m,\u001b[0m \u001b[0ms\u001b[0m \u001b[0;34m=\u001b[0m \u001b[0;36m10\u001b[0m\u001b[0;34m)\u001b[0m\u001b[0;34m\u001b[0m\u001b[0;34m\u001b[0m\u001b[0m\n\u001b[1;32m     55\u001b[0m         \u001b[0mplt\u001b[0m\u001b[0;34m.\u001b[0m\u001b[0mscatter\u001b[0m\u001b[0;34m(\u001b[0m\u001b[0;34m[\u001b[0m\u001b[0mcntrs\u001b[0m\u001b[0;34m[\u001b[0m\u001b[0mi\u001b[0m\u001b[0;34m]\u001b[0m\u001b[0;34m[\u001b[0m\u001b[0;36m0\u001b[0m\u001b[0;34m]\u001b[0m\u001b[0;34m]\u001b[0m\u001b[0;34m,\u001b[0m \u001b[0;34m[\u001b[0m\u001b[0mcntrs\u001b[0m\u001b[0;34m[\u001b[0m\u001b[0mi\u001b[0m\u001b[0;34m]\u001b[0m\u001b[0;34m[\u001b[0m\u001b[0;36m1\u001b[0m\u001b[0;34m]\u001b[0m\u001b[0;34m]\u001b[0m\u001b[0;34m,\u001b[0m \u001b[0mcolor\u001b[0m \u001b[0;34m=\u001b[0m \u001b[0mctr_colors\u001b[0m\u001b[0;34m[\u001b[0m\u001b[0mi\u001b[0m\u001b[0;34m]\u001b[0m\u001b[0;34m,\u001b[0m \u001b[0ms\u001b[0m \u001b[0;34m=\u001b[0m \u001b[0;36m100\u001b[0m\u001b[0;34m,\u001b[0m \u001b[0mfacecolors\u001b[0m \u001b[0;34m=\u001b[0m \u001b[0;34m\"none\"\u001b[0m\u001b[0;34m)\u001b[0m\u001b[0;34m\u001b[0m\u001b[0;34m\u001b[0m\u001b[0m\n",
            "\u001b[0;31mIndexError\u001b[0m: list index out of range"
          ]
        }
      ]
    },
    {
      "cell_type": "markdown",
      "metadata": {
        "id": "thO5hKptDHKh"
      },
      "source": [
        "### 1.1.2e Fuzzy k-means\n",
        "Describe how you would implement fuzzy k-means clustering using the above set of functions. Don't worry about implementing the fuzzy k-means or generating any more plots."
      ]
    },
    {
      "cell_type": "markdown",
      "source": [
        "# **1.2 Hidden Markov Models**"
      ],
      "metadata": {
        "id": "GOwofZ4V9Jcl"
      }
    },
    {
      "cell_type": "markdown",
      "source": [
        "In this problem, we will implement the eight-state Hidden Markov Model described in lecture to annotate regions as CpG islands, or regions with high CpG dinucleotide frequency. Recall the model has states 𝐴+, 𝐶+, 𝐺+, 𝑇+ which emit nucleotides within CpG islands and states 𝐴−, 𝐶−, 𝐺−, 𝑇− which emit nucleotides outside CpG islands."
      ],
      "metadata": {
        "id": "uCTV6wrVI8xJ"
      }
    },
    {
      "cell_type": "markdown",
      "metadata": {
        "id": "Shig4BU-Adr1"
      },
      "source": [
        "## 1.2.1 Implement the eight-state Hidden Markov Model.\n",
        "\n",
        "The training data is the sequence of human chromosome 21 and an existing CpG island annotation which we will use as ground truth. Train the model by computing the maximum likelihood estimates of the model parameters (recall these are relative frequencies). Please also provide:\n",
        "\n",
        "1. Description of how you handle zeroes in the estimated parameters. (Hint: you may need to do some smoothing in the emission probability matrix to avoid calculating $\\log(0)$)\n",
        "2. The initial state distribution and justification for how it was chosen.\n",
        "3. The final transition probability matrix.\n",
        "4. The final emission probability matrix.\n"
      ]
    },
    {
      "cell_type": "code",
      "source": [
        "!wget https://hgdownload.cse.ucsc.edu/goldenpath/hg38/chromosomes/chr21.fa.gz\n",
        "!wget https://hgdownload.cse.ucsc.edu/goldenpath/hg38/chromosomes/chr22.fa.gz\n",
        "!wget https://hgdownload.cse.ucsc.edu/goldenpath/hg38/database/cpgIslandExt.txt.gz\n",
        "### Schema at https://hgdownload.cse.ucsc.edu/goldenpath/hg38/database/cpgIslandExt.sql"
      ],
      "metadata": {
        "id": "ASjCmnWc9Rdo"
      },
      "execution_count": null,
      "outputs": []
    },
    {
      "cell_type": "markdown",
      "source": [
        "## 1.2.2 Annotate CpG islands using the Viterbi algorithm\n",
        "Use the Viterbi algorithm to annotate CpG islands in the region surrounding the SRY (sex determining region Y)-box 10 gene (SOX10). We are interested in the region between positions 38,000,000 - 39,000,000 of human chromosome 22. Return a list of lists corresponding to the CpG annotations (e.g. [[1, 1000], [10000, 20000]])."
      ],
      "metadata": {
        "id": "aSBnaUVhKcth"
      }
    },
    {
      "cell_type": "markdown",
      "source": [
        "## 1.2.3 Evaluation\n",
        "\n",
        "Evaluate the performance of the model by computing its false positive and false negative rates on the test data against the ground truth annotation. Define a true positive to be a predicted CpG island of which at least 50% overlaps a true CpG island.\n",
        "\n",
        "Are these two rates equal? If not, what causes this bias?\n"
      ],
      "metadata": {
        "id": "bwr--0vwL8C-"
      }
    },
    {
      "cell_type": "markdown",
      "source": [
        "## 1.2.4 Parameter tuning\n",
        "\n",
        "Could we improve the performance of the model by tuning parameters? If so, describe how you would do so (you do not have to implement your suggestions). If not, describe and justify some modifications to the model which could reduce its error rate.\n"
      ],
      "metadata": {
        "id": "j0zn2AcbME4E"
      }
    },
    {
      "cell_type": "markdown",
      "source": [
        "## 1.2.5 Model size\n",
        "\n",
        "One change to your model that you might consider is to add more states to it. Nevertheless, the number of states will still be finite. Explain why this limits the model's ability to capture phenomena that span arbitrarily large sequences.\n"
      ],
      "metadata": {
        "id": "Q760dR3YMZat"
      }
    },
    {
      "cell_type": "markdown",
      "source": [
        "## 1.2.6 Multiple lines of evidence\n",
        "\n",
        "One alternative approach to improve the quality of annotations is combining multiple lines of evidence.\n",
        "\n",
        "Do not implement, but describe and justify some biological criteria for filtering the output of a sequence-based CpG island classifier to improve its performance."
      ],
      "metadata": {
        "id": "Z-jTyi2CMhGn"
      }
    },
    {
      "cell_type": "markdown",
      "source": [
        "# **1.3 Motif finding**"
      ],
      "metadata": {
        "id": "Eavli7EV9Y9R"
      }
    },
    {
      "cell_type": "markdown",
      "source": [
        "In this problem we will derive the probabilistic model underlying position weight matrices (PWMs) and use it to study CCCTC-binding factor (CTCF) binding sites. CTCF is a conserved zinc-finger protein which binds to thousands of locations in the human genome and acts as an insulator/repressor."
      ],
      "metadata": {
        "id": "mRKuFRdNKcAH"
      }
    },
    {
      "cell_type": "markdown",
      "metadata": {
        "id": "WBoqOFj7EVIG"
      },
      "source": [
        "## 1.3.1 Motif model\n",
        " Explain how to estimate the motif model $M = [m_{ij}]$ where $m_{ij} = P(position~i = nucleotide~j)$."
      ]
    },
    {
      "cell_type": "markdown",
      "source": [
        "## 1.3.2 Background model\n",
        "\n",
        "Describe and justify an algorithm to estimate the background model 𝐵 across the whole genome. What assumptions does your model make? What are some of its weaknesses?\n"
      ],
      "metadata": {
        "id": "Rq1goEgxVIlr"
      }
    },
    {
      "cell_type": "markdown",
      "source": [
        "## 1.3.3 Implementation\n",
        "Recall that a PWM gives the log odds of observing a particular nucleotide at a particular position in the motif model against the background distribution.\n",
        "\n",
        "Implement your algorithm from 1.3.1 to estimate 𝑀 from some binding sites from ENCODE and your algorithm from 1.3.2 to estimate 𝐵 from chr21 for ENCFF029THO. Then, estimate a PWM for CTCF using 𝑀 and 𝐵. Report all of the distributions."
      ],
      "metadata": {
        "id": "K7tMv-LCVcf1"
      }
    },
    {
      "cell_type": "code",
      "source": [
        "!wget -q -c https://hgdownload.cse.ucsc.edu/goldenpath/hg38/chromosomes/chr21.fa.gz -O chr21.fa.gz\n",
        "!gunzip -f chr21.fa.gz\n",
        "!samtools faidx chr21.fa\n",
        "!wget -q -c https://hgdownload.cse.ucsc.edu/goldenpath/hg38/chromosomes/chr22.fa.gz -O chr22.fa.gz\n",
        "!gunzip -f chr22.fa.gz\n",
        "!samtools faidx chr22.fa\n",
        "!wget -q -c https://www.encodeproject.org/files/ENCFF029THO/@@download/ENCFF029THO.bed.gz -O ENCFF029THO.bed.gz\n",
        "!wget -q -c https://www.encodeproject.org/files/ENCFF237RIC/@@download/ENCFF237RIC.bed.gz -O ENCFF237RIC.bed.gz"
      ],
      "metadata": {
        "id": "fKTMRrRykNZK"
      },
      "execution_count": null,
      "outputs": []
    },
    {
      "cell_type": "code",
      "source": [
        "### ENCODE narrowPeak format\n",
        "def load_narrow_peak(bed, chr:str=None):\n",
        "    df = pd.read_csv(bed, header=None, sep=\"\\t\")\n",
        "    df.columns = [\"Chromosome\", \"Start\", \"End\", \"name\", \"score\", \"Strand\", \"signalValue\", \"pValue\", \"qValue\", \"peak\"]\n",
        "    if chr is not None:\n",
        "      df = df.loc[df[\"Chromosome\"]==chr, :]\n",
        "    return pyranges.PyRanges(df)\n",
        "\n",
        "tbl = {}\n",
        "for sample in [\"ENCFF029THO\", \"ENCFF237RIC\"]:\n",
        "    for chr in [\"chr21\", \"chr22\"]:\n",
        "      seq = pyranges.get_sequence(load_narrow_peak(\"%s.bed.gz\" % sample, chr), \"%s.fa\" % chr)\n",
        "      tbl[\"%s_%s\" % (sample, chr)] = seq\n",
        "      print(sample, chr, len(seq))\n",
        "\n",
        "\n",
        "### To Implement as well: get background\n",
        "#background ="
      ],
      "metadata": {
        "colab": {
          "base_uri": "https://localhost:8080/"
        },
        "id": "gal7_8FcoCQy",
        "outputId": "03d7f720-9ac6-4d61-dc94-5d8d796840b5"
      },
      "execution_count": null,
      "outputs": [
        {
          "output_type": "stream",
          "name": "stdout",
          "text": [
            "ENCFF029THO chr21 500\n",
            "ENCFF029THO chr22 1005\n",
            "ENCFF237RIC chr21 526\n",
            "ENCFF237RIC chr22 1058\n"
          ]
        }
      ]
    },
    {
      "cell_type": "markdown",
      "source": [
        "## 1.3.4 Convolutional neural network for motif finding\n",
        "\n",
        "Implement a simple PyTorch CNN to classify CTCF sequences for the same data."
      ],
      "metadata": {
        "id": "j_B2konyhkYy"
      }
    },
    {
      "cell_type": "markdown",
      "source": [
        "# **1.4 Enhancer-gene linking**\n",
        "\n",
        "In this module, you will attempt a few methods for linking enhancers to genes, as well as estimating gene expression from chromatin data.\n",
        "\n",
        "\n",
        "Using EpiMap (http://compbio.mit.edu/epimap/) data, we can look at enhancer regions and see which genes they control."
      ],
      "metadata": {
        "id": "s3b_F9MS9isy"
      }
    },
    {
      "cell_type": "markdown",
      "source": [
        "## 1.4.1 Find all enhancer-gene pairs within 100Kbp (100,000 base pairs) from the TSS of a gene\n",
        "\n",
        "\n",
        "Each row of the AnnData objects corresponds to a sample, and each column of the anndata object corresponds to a feature, i.e. a peak or a gene.\n",
        "\n",
        "Using the \"interval\" field of the RNA and chromatin/DNase objects, compute the enhancer-gene pairs.\n",
        "\n",
        "Specifically, find peaks that overlap Enh states in BSS00369 (Brain, frontal cortex)"
      ],
      "metadata": {
        "id": "fxr9DVkGNjrQ"
      }
    },
    {
      "cell_type": "code",
      "source": [
        "!wget -c https://www.dropbox.com/sh/d11ndep99xc6aka/AAByrCihV_V7Izes0wmdmiJLa?dl=1 -O linking.zip\n",
        "!unzip -o linking.zip -d linking\n",
        "os.unlink(\"linking.zip\")\n",
        "\n",
        "rna = anndata.read(\"linking/rna.h5ad\")\n",
        "h3k27ac = anndata.read(\"linking/H3K27ac_reduced.h5ad\")\n",
        "dnase = anndata.read(\"linking/DNase-seq_reduced.h5ad\")"
      ],
      "metadata": {
        "id": "fX098_jm9mSo",
        "colab": {
          "base_uri": "https://localhost:8080/"
        },
        "outputId": "c823c63b-cf79-4d34-860a-92c4a9157656"
      },
      "execution_count": null,
      "outputs": [
        {
          "output_type": "stream",
          "name": "stdout",
          "text": [
            "--2023-09-13 18:25:09--  https://www.dropbox.com/sh/d11ndep99xc6aka/AAByrCihV_V7Izes0wmdmiJLa?dl=1\n",
            "Resolving www.dropbox.com (www.dropbox.com)... 162.125.8.18, 2620:100:6018:18::a27d:312\n",
            "Connecting to www.dropbox.com (www.dropbox.com)|162.125.8.18|:443... connected.\n",
            "HTTP request sent, awaiting response... 302 Found\n",
            "Location: /sh/dl/d11ndep99xc6aka/AAByrCihV_V7Izes0wmdmiJLa [following]\n",
            "--2023-09-13 18:25:09--  https://www.dropbox.com/sh/dl/d11ndep99xc6aka/AAByrCihV_V7Izes0wmdmiJLa\n",
            "Reusing existing connection to www.dropbox.com:443.\n",
            "HTTP request sent, awaiting response... 302 Found\n",
            "Location: https://ucd625a8665d994bb0a573be163b.dl.dropboxusercontent.com/zip_download_get/BnA_ALlgP47CU82Ysgh-pw5YruY-PL5xUdDWUTtm8V3v3gVEv1Lf9TwWDgJnm6kNItSCNtiRfdTN6eKhJE9zRz3ILTZ3szcik2p01KsiXBmffA?dl=1# [following]\n",
            "--2023-09-13 18:25:10--  https://ucd625a8665d994bb0a573be163b.dl.dropboxusercontent.com/zip_download_get/BnA_ALlgP47CU82Ysgh-pw5YruY-PL5xUdDWUTtm8V3v3gVEv1Lf9TwWDgJnm6kNItSCNtiRfdTN6eKhJE9zRz3ILTZ3szcik2p01KsiXBmffA?dl=1\n",
            "Resolving ucd625a8665d994bb0a573be163b.dl.dropboxusercontent.com (ucd625a8665d994bb0a573be163b.dl.dropboxusercontent.com)... 162.125.8.15, 2620:100:6018:15::a27d:30f\n",
            "Connecting to ucd625a8665d994bb0a573be163b.dl.dropboxusercontent.com (ucd625a8665d994bb0a573be163b.dl.dropboxusercontent.com)|162.125.8.15|:443... connected.\n",
            "HTTP request sent, awaiting response... 200 OK\n",
            "Length: 2536728726 (2.4G) [application/zip]\n",
            "Saving to: ‘linking.zip’\n",
            "\n",
            "linking.zip         100%[===================>]   2.36G  52.6MB/s    in 55s     \n",
            "\n",
            "2023-09-13 18:26:05 (44.3 MB/s) - ‘linking.zip’ saved [2536728726/2536728726]\n",
            "\n",
            "Archive:  linking.zip\n",
            "warning:  stripped absolute path spec from /\n",
            "mapname:  conversion of  failed\n",
            " extracting: linking/rna.h5ad        \n",
            " extracting: linking/H3K9ac_reduced.h5ad  \n",
            " extracting: linking/H3K27ac_reduced.h5ad  \n",
            " extracting: linking/H3K4me1_reduced.h5ad  \n",
            " extracting: linking/H3K4me2_reduced.h5ad  \n",
            " extracting: linking/H3K4me3_reduced.h5ad  \n",
            " extracting: linking/DNase-seq_reduced.h5ad  \n"
          ]
        }
      ]
    },
    {
      "cell_type": "code",
      "source": [
        "eqtl = pd.read_csv(\"linking/gtex_frontal_cortex_eQTL_hg19.tsv.gz\", sep=\"\\t\")\n",
        "\n",
        "### Use the 18-state ChromHMM model\n",
        "chmm = pd.read_csv(\"https://personal.broadinstitute.org/cboix/epimap/ChromHMM/observed_aux_18_hg19/CALLS/BSS00369_18_CALLS_segments.bed.gz\", sep=\"\\t\", header=None).iloc[:, range(4)]\n",
        "chmm.columns = [\"Chromosome\", \"Start\", \"End\", \"state\"]\n",
        "chmm = chmm.loc[chmm[\"state\"].str.startswith(\"Enh\"), :]\n",
        "print(chmm[\"state\"].value_counts())\n",
        "## TO IMPLEMENT: convert to PyRanges and intersect with h3k27ac.var"
      ],
      "metadata": {
        "colab": {
          "base_uri": "https://localhost:8080/"
        },
        "id": "Uda_--txxevJ",
        "outputId": "375d2abd-93b2-4a75-8c33-af0aedd78092"
      },
      "execution_count": null,
      "outputs": [
        {
          "output_type": "stream",
          "name": "stdout",
          "text": [
            "EnhWk     55269\n",
            "EnhA1     38630\n",
            "EnhA2     31612\n",
            "EnhBiv    11401\n",
            "EnhG1      8672\n",
            "EnhG2      4124\n",
            "Name: state, dtype: int64\n"
          ]
        }
      ]
    },
    {
      "cell_type": "markdown",
      "source": [
        "## 1.4.2 Compute an activity-by-contact like model of enhancer-gene links and compare to nearest-gene\n",
        "\n",
        "ABC takes the power law (provided, given a distance), multiplies by some activity, such as the geometric mean of the H3K27ac and DNase-seq activity, and then divides by all ABC scores for one gene.\n",
        "\n",
        "Take all enhancer-promoter pairs you generated in the previous section, and compute the ABC distance (power law), and 3 ABC like scores, using activity of: H3K27ac, DNase-seq, and sqrt(H3K27ac*DNase-seq) in BSS00369, and compare all 4 predicions to GTEx eQTLs.\n",
        "\n",
        "Limit eQTLs to the ranges of the enhancers you have, and try to see what the predicitve accuracy of the linking is on the eQTLs.\n"
      ],
      "metadata": {
        "id": "uX-hB2XLNxbS"
      }
    },
    {
      "cell_type": "code",
      "source": [
        "def abc_distance(distance, hic_power=0.87):\n",
        "    scale = -4.80 + 11.63 * hic_power\n",
        "    offset = np.clip(np.abs(distance), 5000, np.inf)\n",
        "    return np.exp(scale + -1 * hic_power * np.log1p(offset))"
      ],
      "metadata": {
        "id": "yBceLWlI0Eic"
      },
      "execution_count": null,
      "outputs": []
    },
    {
      "cell_type": "markdown",
      "source": [
        "## 1.4.3 Correlate enhancers to gene expression\n",
        "\n",
        "Use a simple model to use H3K27ac-RNA and DNase-seq-RNA correlation with RNA-seq in different enhancer types.\n",
        "\n",
        "Similar to 1.4.2, modify the algorithm to use correlation times activity instead of just activity.\n",
        "So calculate three more scores, using\n",
        "\n",
        "1. H3K27ac * Cor(H3K27ac, RNA)^2,\n",
        "2. DNase-seq * Cor(DNase-seq, RNA)^2\n",
        "3. sqrt(H3K27ac * DNase-seq) * Cor(sqrt(H3K27ac*DNase-seq), RNA)^2\n",
        "\n",
        "How do each of the pairings compare? Does correlation improve certain predictions and hurt others?"
      ],
      "metadata": {
        "id": "J1_UYYWzN7jV"
      }
    },
    {
      "cell_type": "code",
      "source": [
        "def correlation(A, B, wt=None):\n",
        "    \"Fast pearson correlation for one matrix against another\"\n",
        "    if wt is None:\n",
        "        wt = np.ones(A.shape[1])\n",
        "    wt = np.ravel(wt) / np.sum(wt)\n",
        "    Am = (A.T - np.dot(A, wt)).T\n",
        "    Bm = (B.T - np.dot(B, wt)).T\n",
        "    Am_sum_sq = np.dot(Am * Am, wt)\n",
        "    Bm_sum_sq = np.dot(Bm * Bm, wt)\n",
        "    numer = np.dot(Am * Bm, wt)\n",
        "    denom = np.sqrt(Am_sum_sq * Bm_sum_sq)\n",
        "    cor = np.divide(numer, denom, out=np.zeros_like(numer), where=denom != 0)\n",
        "    return cor\n",
        "\n",
        "def compute_correlation(links:pd.DataFrame, rna:anndata.AnnData, dna:anndata.AnnData,\n",
        "                        batch_size=1000, enh_col=\"gene\", gene_col=\"gene\"):\n",
        "    comm_samples = set(rna.obs_names.values) & set(h3k27ac.obs_names.values)\n",
        "    cor = np.zeros(links.shape[0])\n",
        "    for start in np.arange(0, links.shape[0], batch_size):\n",
        "        end = min(start + batch_size, links.shape[0])\n",
        "        enhancers = links[enh_col].values[start:end]\n",
        "        genes = links[gene_col].values[start:end]\n",
        "        rna_data = rna[comm_samples, genes].X.T\n",
        "        dna_data = dna[comm_samples, enhancers].X.T\n",
        "        cor[start:end] = correlation(rna_data, dna_data)\n",
        "    return cor"
      ],
      "metadata": {
        "id": "NNR08e2s9nGT"
      },
      "execution_count": null,
      "outputs": []
    },
    {
      "cell_type": "markdown",
      "source": [
        "## 1.4.4 Estimate gene expression from chromatin data\n",
        "\n",
        "If peak-gene links can accurately capture correlation, the additive effect of them should allow for gene expression estimation.\n",
        "\n",
        "Try to estimate the RNA-seq by aggregating the BSS00369 enhancer-gene links you have, and then correlate to BSS00369 RNA-seq expression. What samples' transcriptomes are best predicted from the BSS00369 (Frontal Cortex) enhancer-gene links?\n",
        "\n",
        "Remember that the ABC links are normalized per-gene, so you may have to multiply by the activity per gene."
      ],
      "metadata": {
        "id": "9SGYZbXGOI9Z"
      }
    },
    {
      "cell_type": "markdown",
      "source": [
        "# **1.5 Recurrent neural network for CpG Islands (Optional for 6.8701 undergraduate version)**"
      ],
      "metadata": {
        "id": "uDZQhKcXMv1p"
      }
    },
    {
      "cell_type": "markdown",
      "source": [
        "Implement a simple recurrent neural network in PyTorch for CpG islands in the same manner as 1.2, and similarly evaluate the performance of the model. Keep the model small to be able to use CPU node instead of GPU nodes."
      ],
      "metadata": {
        "id": "9xKN8OPdNQZS"
      }
    },
    {
      "cell_type": "code",
      "source": [],
      "metadata": {
        "id": "kQMeQCkkM4uX"
      },
      "execution_count": null,
      "outputs": []
    }
  ]
}